{
 "cells": [
  {
   "cell_type": "code",
   "execution_count": 3,
   "id": "2431bf7f-3e66-49c6-a4c6-5ad7cc789b0a",
   "metadata": {},
   "outputs": [
    {
     "name": "stdout",
     "output_type": "stream",
     "text": [
      "Defaulting to user installation because normal site-packages is not writeable\n",
      "Requirement already satisfied: numpy in /home/mkairov/.local/lib/python3.10/site-packages (1.24.3)\n",
      "Requirement already satisfied: scipy in /home/mkairov/.local/lib/python3.10/site-packages (1.12.0)\n",
      "Requirement already satisfied: tqdm in /home/mkairov/.local/lib/python3.10/site-packages (4.66.1)\n"
     ]
    }
   ],
   "source": [
    "!pip install numpy scipy tqdm"
   ]
  },
  {
   "cell_type": "code",
   "execution_count": null,
   "id": "29fe381a-de07-4828-b576-c2abdb33e4cd",
   "metadata": {},
   "outputs": [
    {
     "name": "stdout",
     "output_type": "stream",
     "text": [
      "/opt/software/python/envs/pytorch2_0/lib/python3.10/site-packages/conda_package_streaming/package_streaming.py:19: UserWarning: zstandard could not be imported. Running without .conda support.\n",
      "  warnings.warn(\"zstandard could not be imported. Running without .conda support.\")\n",
      "/opt/software/python/envs/pytorch2_0/lib/python3.10/site-packages/conda_package_handling/api.py:29: UserWarning: Install zstandard Python bindings for .conda support\n",
      "  _warnings.warn(\"Install zstandard Python bindings for .conda support\")\n",
      "Collecting package metadata (repodata.json): | /opt/software/python/envs/pytorch2_0/lib/python3.10/site-packages/conda_package_streaming/package_streaming.py:19: UserWarning: zstandard could not be imported. Running without .conda support.\n",
      "  warnings.warn(\"zstandard could not be imported. Running without .conda support.\")\n",
      "/opt/software/python/envs/pytorch2_0/lib/python3.10/site-packages/conda_package_handling/api.py:29: UserWarning: Install zstandard Python bindings for .conda support\n",
      "  _warnings.warn(\"Install zstandard Python bindings for .conda support\")\n",
      "/ "
     ]
    }
   ],
   "source": [
    "!conda install pytorch"
   ]
  },
  {
   "cell_type": "code",
   "execution_count": 2,
   "id": "00da56f4-4248-4154-9c17-5d1d8e9c9c4a",
   "metadata": {},
   "outputs": [
    {
     "name": "stdout",
     "output_type": "stream",
     "text": [
      "Defaulting to user installation because normal site-packages is not writeable\n",
      "Requirement already satisfied: transformers in /opt/software/python/envs/pytorch2_0/lib/python3.10/site-packages (4.28.1)\n",
      "Requirement already satisfied: sentencepiece in /home/mkairov/.local/lib/python3.10/site-packages (0.1.99)\n",
      "Requirement already satisfied: huggingface-hub<1.0,>=0.11.0 in /home/mkairov/.local/lib/python3.10/site-packages (from transformers) (0.18.0)\n",
      "Requirement already satisfied: regex!=2019.12.17 in /opt/software/python/envs/pytorch2_0/lib/python3.10/site-packages (from transformers) (2023.3.23)\n",
      "Requirement already satisfied: tqdm>=4.27 in /home/mkairov/.local/lib/python3.10/site-packages (from transformers) (4.66.1)\n",
      "Requirement already satisfied: filelock in /home/mkairov/.local/lib/python3.10/site-packages (from transformers) (3.13.1)\n",
      "Requirement already satisfied: tokenizers!=0.11.3,<0.14,>=0.11.1 in /opt/software/python/envs/pytorch2_0/lib/python3.10/site-packages (from transformers) (0.11.4)\n",
      "Requirement already satisfied: numpy>=1.17 in /home/mkairov/.local/lib/python3.10/site-packages (from transformers) (1.24.3)\n",
      "Requirement already satisfied: packaging>=20.0 in /home/mkairov/.local/lib/python3.10/site-packages (from transformers) (23.2)\n",
      "Requirement already satisfied: pyyaml>=5.1 in /home/mkairov/.local/lib/python3.10/site-packages (from transformers) (6.0.1)\n",
      "Requirement already satisfied: requests in /home/mkairov/.local/lib/python3.10/site-packages (from transformers) (2.31.0)\n",
      "Requirement already satisfied: typing-extensions>=3.7.4.3 in /home/mkairov/.local/lib/python3.10/site-packages (from huggingface-hub<1.0,>=0.11.0->transformers) (4.5.0)\n",
      "Requirement already satisfied: fsspec>=2023.5.0 in /home/mkairov/.local/lib/python3.10/site-packages (from huggingface-hub<1.0,>=0.11.0->transformers) (2023.6.0)\n",
      "Requirement already satisfied: idna<4,>=2.5 in /home/mkairov/.local/lib/python3.10/site-packages (from requests->transformers) (3.4)\n",
      "Requirement already satisfied: charset-normalizer<4,>=2 in /home/mkairov/.local/lib/python3.10/site-packages (from requests->transformers) (3.3.2)\n",
      "Requirement already satisfied: certifi>=2017.4.17 in /home/mkairov/.local/lib/python3.10/site-packages (from requests->transformers) (2023.7.22)\n",
      "Requirement already satisfied: urllib3<3,>=1.21.1 in /home/mkairov/.local/lib/python3.10/site-packages (from requests->transformers) (1.26.18)\n"
     ]
    }
   ],
   "source": [
    "!pip install transformers sentencepiece"
   ]
  },
  {
   "cell_type": "code",
   "execution_count": 6,
   "id": "65fd02cd-3e8c-4ff4-b01f-e13272cb770a",
   "metadata": {},
   "outputs": [
    {
     "ename": "ModuleNotFoundError",
     "evalue": "No module named 'transformers'",
     "output_type": "error",
     "traceback": [
      "\u001b[0;31m---------------------------------------------------------------------------\u001b[0m",
      "\u001b[0;31mModuleNotFoundError\u001b[0m                       Traceback (most recent call last)",
      "Input \u001b[0;32mIn [6]\u001b[0m, in \u001b[0;36m<cell line: 1>\u001b[0;34m()\u001b[0m\n\u001b[0;32m----> 1\u001b[0m \u001b[38;5;28;01mimport\u001b[39;00m \u001b[38;5;21;01mtransformers\u001b[39;00m\n",
      "\u001b[0;31mModuleNotFoundError\u001b[0m: No module named 'transformers'"
     ]
    }
   ],
   "source": [
    "import transformers"
   ]
  },
  {
   "cell_type": "code",
   "execution_count": 8,
   "id": "80d4e99f-2e31-46f9-bc30-bd05c982829f",
   "metadata": {},
   "outputs": [
    {
     "name": "stdout",
     "output_type": "stream",
     "text": [
      "Available kernels:\n",
      "  python3    /opt/software/python/envs/pytorch1_11/share/jupyter/kernels/python3\n"
     ]
    }
   ],
   "source": [
    "!jupyter kernelspec list"
   ]
  },
  {
   "cell_type": "code",
   "execution_count": null,
   "id": "2f41a300-d98e-4ee0-b367-4781bac4794f",
   "metadata": {},
   "outputs": [],
   "source": []
  }
 ],
 "metadata": {
  "kernelspec": {
   "display_name": "Python [python-pytorch2_0]",
   "language": "python",
   "name": "conda-env-python-pytorch2_0-py"
  },
  "language_info": {
   "codemirror_mode": {
    "name": "ipython",
    "version": 3
   },
   "file_extension": ".py",
   "mimetype": "text/x-python",
   "name": "python",
   "nbconvert_exporter": "python",
   "pygments_lexer": "ipython3",
   "version": "3.10.10"
  }
 },
 "nbformat": 4,
 "nbformat_minor": 5
}
